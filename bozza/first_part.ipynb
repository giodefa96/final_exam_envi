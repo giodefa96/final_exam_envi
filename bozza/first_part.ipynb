{
 "cells": [
  {
   "cell_type": "code",
   "execution_count": 8,
   "metadata": {
    "pycharm": {
     "name": "#%%\n"
    }
   },
   "outputs": [],
   "source": [
    "# import libraries\n",
    "\n",
    "import matplotlib.pyplot as plt\n",
    "\n",
    "import cartopy.crs as ccrs\n",
    "#from cartopy.util import add_cyclic_point\n",
    "\n",
    "import xarray as xr\n",
    "\n",
    "import numpy as np\n",
    "\n",
    "\n",
    "from pathlib import Path\n",
    "import sys"
   ]
  },
  {
   "cell_type": "code",
   "execution_count": 9,
   "metadata": {
    "pycharm": {
     "name": "#%%\n"
    }
   },
   "outputs": [
    {
     "data": {
      "text/plain": "PosixPath('/home/giodefa')"
     },
     "execution_count": 9,
     "metadata": {},
     "output_type": "execute_result"
    }
   ],
   "source": [
    "path_home = Path.home()\n",
    "path_home"
   ]
  },
  {
   "cell_type": "code",
   "execution_count": 10,
   "metadata": {
    "pycharm": {
     "name": "#%%\n"
    }
   },
   "outputs": [],
   "source": [
    "def searching_model_path(name: str):\n",
    "    \"\"\"Insert the name string of the model so i can reach for you\"\"\"\n",
    "    try:\n",
    "        path_home = Path.home()\n",
    "        path_directory = path_home / 'Desktop/Unimib/Data Science/Second Year/Physics and environmental data lab/Environmental/Materiale Corso/Model Folder'\n",
    "        path_model_ls_cm6a = path_directory / name\n",
    "        if path_model_ls_cm6a.exists() == False:\n",
    "            sys.exit()\n",
    "        return path_model_ls_cm6a\n",
    "    except SystemExit:\n",
    "        print('Insert string and valid model name')"
   ]
  },
  {
   "cell_type": "code",
   "execution_count": 11,
   "metadata": {
    "pycharm": {
     "name": "#%%\n"
    }
   },
   "outputs": [],
   "source": [
    "class Searching_Model_Path:\n",
    "\n",
    "    def __init__(self, searching_model_path=None):\n",
    "        self.searching_model_path = searching_model_path\n",
    "    \n",
    "    def searching_model_path(name: str):\n",
    "        \"\"\"Insert the name string of the model so i can reach for you\"\"\"\n",
    "        try:\n",
    "            path_home = Path.home()\n",
    "            path_directory = path_home / 'Desktop/Unimib/Data Science/Second Year/Physics and environmental data lab/Environmental/Materiale Corso/Model Folder'\n",
    "            path_model_ls_cm6a = path_directory / name\n",
    "            if path_model_ls_cm6a.exists() == False:\n",
    "                sys.exit()\n",
    "            return path_model_ls_cm6a\n",
    "        except SystemExit:\n",
    "            print('Insert string and valid model name')\n"
   ]
  },
  {
   "cell_type": "code",
   "execution_count": 12,
   "metadata": {
    "pycharm": {
     "name": "#%%\n"
    }
   },
   "outputs": [
    {
     "data": {
      "text/plain": "PosixPath('/home/giodefa/Desktop/Unimib/Data Science/Second Year/Physics and environmental data lab/Environmental/Materiale Corso/Model Folder/ts_Amon_MIROC6_historical_r1i1p1f1_gn_185001-201412.nc')"
     },
     "execution_count": 12,
     "metadata": {},
     "output_type": "execute_result"
    }
   ],
   "source": [
    "Searching_Model_Path.searching_model_path('ts_Amon_MIROC6_historical_r1i1p1f1_gn_185001-201412.nc')"
   ]
  },
  {
   "cell_type": "code",
   "execution_count": 84,
   "metadata": {
    "pycharm": {
     "name": "#%%\n"
    }
   },
   "outputs": [],
   "source": []
  },
  {
   "cell_type": "code",
   "execution_count": 18,
   "metadata": {
    "pycharm": {
     "name": "#%%\n"
    }
   },
   "outputs": [],
   "source": [
    "path_model_ls_cm6a =  searching_model_path('ts_Amon_MIROC6_historical_r1i1p1f1_gn_185001-201412.nc')"
   ]
  },
  {
   "cell_type": "code",
   "execution_count": 19,
   "metadata": {
    "pycharm": {
     "name": "#%%\n"
    }
   },
   "outputs": [
    {
     "ename": "ValueError",
     "evalue": "found the following matches with the input file in xarray's IO backends: ['netcdf4', 'h5netcdf']. But their dependencies may not be installed, see:\nhttp://xarray.pydata.org/en/stable/user-guide/io.html \nhttp://xarray.pydata.org/en/stable/getting-started-guide/installing.html",
     "output_type": "error",
     "traceback": [
      "\u001B[0;31m---------------------------------------------------------------------------\u001B[0m",
      "\u001B[0;31mValueError\u001B[0m                                Traceback (most recent call last)",
      "Input \u001B[0;32mIn [19]\u001B[0m, in \u001B[0;36m<cell line: 1>\u001B[0;34m()\u001B[0m\n\u001B[0;32m----> 1\u001B[0m d1 \u001B[38;5;241m=\u001B[39m \u001B[43mxr\u001B[49m\u001B[38;5;241;43m.\u001B[39;49m\u001B[43mopen_dataset\u001B[49m\u001B[43m(\u001B[49m\u001B[43mpath_model_ls_cm6a\u001B[49m\u001B[43m)\u001B[49m\n\u001B[1;32m      2\u001B[0m d1\n",
      "File \u001B[0;32m~/anaconda3/envs/final_exam_envi/lib/python3.10/site-packages/xarray/backends/api.py:479\u001B[0m, in \u001B[0;36mopen_dataset\u001B[0;34m(filename_or_obj, engine, chunks, cache, decode_cf, mask_and_scale, decode_times, decode_timedelta, use_cftime, concat_characters, decode_coords, drop_variables, backend_kwargs, *args, **kwargs)\u001B[0m\n\u001B[1;32m    476\u001B[0m     kwargs\u001B[38;5;241m.\u001B[39mupdate(backend_kwargs)\n\u001B[1;32m    478\u001B[0m \u001B[38;5;28;01mif\u001B[39;00m engine \u001B[38;5;129;01mis\u001B[39;00m \u001B[38;5;28;01mNone\u001B[39;00m:\n\u001B[0;32m--> 479\u001B[0m     engine \u001B[38;5;241m=\u001B[39m \u001B[43mplugins\u001B[49m\u001B[38;5;241;43m.\u001B[39;49m\u001B[43mguess_engine\u001B[49m\u001B[43m(\u001B[49m\u001B[43mfilename_or_obj\u001B[49m\u001B[43m)\u001B[49m\n\u001B[1;32m    481\u001B[0m backend \u001B[38;5;241m=\u001B[39m plugins\u001B[38;5;241m.\u001B[39mget_backend(engine)\n\u001B[1;32m    483\u001B[0m decoders \u001B[38;5;241m=\u001B[39m _resolve_decoders_kwargs(\n\u001B[1;32m    484\u001B[0m     decode_cf,\n\u001B[1;32m    485\u001B[0m     open_backend_dataset_parameters\u001B[38;5;241m=\u001B[39mbackend\u001B[38;5;241m.\u001B[39mopen_dataset_parameters,\n\u001B[0;32m   (...)\u001B[0m\n\u001B[1;32m    491\u001B[0m     decode_coords\u001B[38;5;241m=\u001B[39mdecode_coords,\n\u001B[1;32m    492\u001B[0m )\n",
      "File \u001B[0;32m~/anaconda3/envs/final_exam_envi/lib/python3.10/site-packages/xarray/backends/plugins.py:152\u001B[0m, in \u001B[0;36mguess_engine\u001B[0;34m(store_spec)\u001B[0m\n\u001B[1;32m    144\u001B[0m \u001B[38;5;28;01melse\u001B[39;00m:\n\u001B[1;32m    145\u001B[0m     error_msg \u001B[38;5;241m=\u001B[39m (\n\u001B[1;32m    146\u001B[0m         \u001B[38;5;124m\"\u001B[39m\u001B[38;5;124mfound the following matches with the input file in xarray\u001B[39m\u001B[38;5;124m'\u001B[39m\u001B[38;5;124ms IO \u001B[39m\u001B[38;5;124m\"\u001B[39m\n\u001B[1;32m    147\u001B[0m         \u001B[38;5;124mf\u001B[39m\u001B[38;5;124m\"\u001B[39m\u001B[38;5;124mbackends: \u001B[39m\u001B[38;5;132;01m{\u001B[39;00mcompatible_engines\u001B[38;5;132;01m}\u001B[39;00m\u001B[38;5;124m. But their dependencies may not be installed, see:\u001B[39m\u001B[38;5;130;01m\\n\u001B[39;00m\u001B[38;5;124m\"\u001B[39m\n\u001B[1;32m    148\u001B[0m         \u001B[38;5;124m\"\u001B[39m\u001B[38;5;124mhttp://xarray.pydata.org/en/stable/user-guide/io.html \u001B[39m\u001B[38;5;130;01m\\n\u001B[39;00m\u001B[38;5;124m\"\u001B[39m\n\u001B[1;32m    149\u001B[0m         \u001B[38;5;124m\"\u001B[39m\u001B[38;5;124mhttp://xarray.pydata.org/en/stable/getting-started-guide/installing.html\u001B[39m\u001B[38;5;124m\"\u001B[39m\n\u001B[1;32m    150\u001B[0m     )\n\u001B[0;32m--> 152\u001B[0m \u001B[38;5;28;01mraise\u001B[39;00m \u001B[38;5;167;01mValueError\u001B[39;00m(error_msg)\n",
      "\u001B[0;31mValueError\u001B[0m: found the following matches with the input file in xarray's IO backends: ['netcdf4', 'h5netcdf']. But their dependencies may not be installed, see:\nhttp://xarray.pydata.org/en/stable/user-guide/io.html \nhttp://xarray.pydata.org/en/stable/getting-started-guide/installing.html"
     ]
    }
   ],
   "source": [
    "d1 = xr.open_dataset(path_model_ls_cm6a)\n",
    "d1"
   ]
  },
  {
   "cell_type": "code",
   "execution_count": 2,
   "metadata": {
    "pycharm": {
     "name": "#%%\n"
    }
   },
   "outputs": [
    {
     "ename": "FileNotFoundError",
     "evalue": "[Errno 2] No such file or directory: b'/home/giodefa/Desktop/Unimib/Data Science/Second Year/Physics and environmental data lab/Environmental/Materiale Corso/Esercitazione 2/ts_Amon_IPSL-CM6A-LR_historical_r1i1p1f1_gr_185001-201412.nc'",
     "output_type": "error",
     "traceback": [
      "\u001B[0;31m---------------------------------------------------------------------------\u001B[0m",
      "\u001B[0;31mKeyError\u001B[0m                                  Traceback (most recent call last)",
      "File \u001B[0;32m~/anaconda3/envs/cartopy_test/lib/python3.9/site-packages/xarray/backends/file_manager.py:199\u001B[0m, in \u001B[0;36mCachingFileManager._acquire_with_cache_info\u001B[0;34m(self, needs_lock)\u001B[0m\n\u001B[1;32m    <a href='file:///home/giodefa/anaconda3/envs/cartopy_test/lib/python3.9/site-packages/xarray/backends/file_manager.py?line=197'>198</a>\u001B[0m \u001B[39mtry\u001B[39;00m:\n\u001B[0;32m--> <a href='file:///home/giodefa/anaconda3/envs/cartopy_test/lib/python3.9/site-packages/xarray/backends/file_manager.py?line=198'>199</a>\u001B[0m     file \u001B[39m=\u001B[39m \u001B[39mself\u001B[39;49m\u001B[39m.\u001B[39;49m_cache[\u001B[39mself\u001B[39;49m\u001B[39m.\u001B[39;49m_key]\n\u001B[1;32m    <a href='file:///home/giodefa/anaconda3/envs/cartopy_test/lib/python3.9/site-packages/xarray/backends/file_manager.py?line=199'>200</a>\u001B[0m \u001B[39mexcept\u001B[39;00m \u001B[39mKeyError\u001B[39;00m:\n",
      "File \u001B[0;32m~/anaconda3/envs/cartopy_test/lib/python3.9/site-packages/xarray/backends/lru_cache.py:53\u001B[0m, in \u001B[0;36mLRUCache.__getitem__\u001B[0;34m(self, key)\u001B[0m\n\u001B[1;32m     <a href='file:///home/giodefa/anaconda3/envs/cartopy_test/lib/python3.9/site-packages/xarray/backends/lru_cache.py?line=51'>52</a>\u001B[0m \u001B[39mwith\u001B[39;00m \u001B[39mself\u001B[39m\u001B[39m.\u001B[39m_lock:\n\u001B[0;32m---> <a href='file:///home/giodefa/anaconda3/envs/cartopy_test/lib/python3.9/site-packages/xarray/backends/lru_cache.py?line=52'>53</a>\u001B[0m     value \u001B[39m=\u001B[39m \u001B[39mself\u001B[39;49m\u001B[39m.\u001B[39;49m_cache[key]\n\u001B[1;32m     <a href='file:///home/giodefa/anaconda3/envs/cartopy_test/lib/python3.9/site-packages/xarray/backends/lru_cache.py?line=53'>54</a>\u001B[0m     \u001B[39mself\u001B[39m\u001B[39m.\u001B[39m_cache\u001B[39m.\u001B[39mmove_to_end(key)\n",
      "\u001B[0;31mKeyError\u001B[0m: [<class 'netCDF4._netCDF4.Dataset'>, ('/home/giodefa/Desktop/Unimib/Data Science/Second Year/Physics and environmental data lab/Environmental/Materiale Corso/Esercitazione 2/ts_Amon_IPSL-CM6A-LR_historical_r1i1p1f1_gr_185001-201412.nc',), 'r', (('clobber', True), ('diskless', False), ('format', 'NETCDF4'), ('persist', False))]",
      "\nDuring handling of the above exception, another exception occurred:\n",
      "\u001B[0;31mFileNotFoundError\u001B[0m                         Traceback (most recent call last)",
      "\u001B[1;32mUntitled-1.ipynb Cell 2'\u001B[0m in \u001B[0;36m<cell line: 10>\u001B[0;34m()\u001B[0m\n\u001B[1;32m      <a href='vscode-notebook-cell:Untitled-1.ipynb?jupyter-notebook#ch0000001untitled?line=6'>7</a>\u001B[0m m_case\u001B[39m=\u001B[39m\u001B[39m'\u001B[39m\u001B[39m_historical_r1i1p1f1_gr_185001-201412.nc\u001B[39m\u001B[39m'\u001B[39m\n\u001B[1;32m      <a href='vscode-notebook-cell:Untitled-1.ipynb?jupyter-notebook#ch0000001untitled?line=7'>8</a>\u001B[0m model1\u001B[39m=\u001B[39mmodfile1[\u001B[39mlen\u001B[39m(m_variable):\u001B[39m-\u001B[39m\u001B[39mlen\u001B[39m(m_case)]\n\u001B[0;32m---> <a href='vscode-notebook-cell:Untitled-1.ipynb?jupyter-notebook#ch0000001untitled?line=9'>10</a>\u001B[0m d1 \u001B[39m=\u001B[39m xr\u001B[39m.\u001B[39;49mopen_dataset(modfile1)\n\u001B[1;32m     <a href='vscode-notebook-cell:Untitled-1.ipynb?jupyter-notebook#ch0000001untitled?line=10'>11</a>\u001B[0m d1\n",
      "File \u001B[0;32m~/anaconda3/envs/cartopy_test/lib/python3.9/site-packages/xarray/backends/api.py:495\u001B[0m, in \u001B[0;36mopen_dataset\u001B[0;34m(filename_or_obj, engine, chunks, cache, decode_cf, mask_and_scale, decode_times, decode_timedelta, use_cftime, concat_characters, decode_coords, drop_variables, backend_kwargs, *args, **kwargs)\u001B[0m\n\u001B[1;32m    <a href='file:///home/giodefa/anaconda3/envs/cartopy_test/lib/python3.9/site-packages/xarray/backends/api.py?line=482'>483</a>\u001B[0m decoders \u001B[39m=\u001B[39m _resolve_decoders_kwargs(\n\u001B[1;32m    <a href='file:///home/giodefa/anaconda3/envs/cartopy_test/lib/python3.9/site-packages/xarray/backends/api.py?line=483'>484</a>\u001B[0m     decode_cf,\n\u001B[1;32m    <a href='file:///home/giodefa/anaconda3/envs/cartopy_test/lib/python3.9/site-packages/xarray/backends/api.py?line=484'>485</a>\u001B[0m     open_backend_dataset_parameters\u001B[39m=\u001B[39mbackend\u001B[39m.\u001B[39mopen_dataset_parameters,\n\u001B[0;32m   (...)\u001B[0m\n\u001B[1;32m    <a href='file:///home/giodefa/anaconda3/envs/cartopy_test/lib/python3.9/site-packages/xarray/backends/api.py?line=490'>491</a>\u001B[0m     decode_coords\u001B[39m=\u001B[39mdecode_coords,\n\u001B[1;32m    <a href='file:///home/giodefa/anaconda3/envs/cartopy_test/lib/python3.9/site-packages/xarray/backends/api.py?line=491'>492</a>\u001B[0m )\n\u001B[1;32m    <a href='file:///home/giodefa/anaconda3/envs/cartopy_test/lib/python3.9/site-packages/xarray/backends/api.py?line=493'>494</a>\u001B[0m overwrite_encoded_chunks \u001B[39m=\u001B[39m kwargs\u001B[39m.\u001B[39mpop(\u001B[39m\"\u001B[39m\u001B[39moverwrite_encoded_chunks\u001B[39m\u001B[39m\"\u001B[39m, \u001B[39mNone\u001B[39;00m)\n\u001B[0;32m--> <a href='file:///home/giodefa/anaconda3/envs/cartopy_test/lib/python3.9/site-packages/xarray/backends/api.py?line=494'>495</a>\u001B[0m backend_ds \u001B[39m=\u001B[39m backend\u001B[39m.\u001B[39;49mopen_dataset(\n\u001B[1;32m    <a href='file:///home/giodefa/anaconda3/envs/cartopy_test/lib/python3.9/site-packages/xarray/backends/api.py?line=495'>496</a>\u001B[0m     filename_or_obj,\n\u001B[1;32m    <a href='file:///home/giodefa/anaconda3/envs/cartopy_test/lib/python3.9/site-packages/xarray/backends/api.py?line=496'>497</a>\u001B[0m     drop_variables\u001B[39m=\u001B[39;49mdrop_variables,\n\u001B[1;32m    <a href='file:///home/giodefa/anaconda3/envs/cartopy_test/lib/python3.9/site-packages/xarray/backends/api.py?line=497'>498</a>\u001B[0m     \u001B[39m*\u001B[39;49m\u001B[39m*\u001B[39;49mdecoders,\n\u001B[1;32m    <a href='file:///home/giodefa/anaconda3/envs/cartopy_test/lib/python3.9/site-packages/xarray/backends/api.py?line=498'>499</a>\u001B[0m     \u001B[39m*\u001B[39;49m\u001B[39m*\u001B[39;49mkwargs,\n\u001B[1;32m    <a href='file:///home/giodefa/anaconda3/envs/cartopy_test/lib/python3.9/site-packages/xarray/backends/api.py?line=499'>500</a>\u001B[0m )\n\u001B[1;32m    <a href='file:///home/giodefa/anaconda3/envs/cartopy_test/lib/python3.9/site-packages/xarray/backends/api.py?line=500'>501</a>\u001B[0m ds \u001B[39m=\u001B[39m _dataset_from_backend_dataset(\n\u001B[1;32m    <a href='file:///home/giodefa/anaconda3/envs/cartopy_test/lib/python3.9/site-packages/xarray/backends/api.py?line=501'>502</a>\u001B[0m     backend_ds,\n\u001B[1;32m    <a href='file:///home/giodefa/anaconda3/envs/cartopy_test/lib/python3.9/site-packages/xarray/backends/api.py?line=502'>503</a>\u001B[0m     filename_or_obj,\n\u001B[0;32m   (...)\u001B[0m\n\u001B[1;32m    <a href='file:///home/giodefa/anaconda3/envs/cartopy_test/lib/python3.9/site-packages/xarray/backends/api.py?line=509'>510</a>\u001B[0m     \u001B[39m*\u001B[39m\u001B[39m*\u001B[39mkwargs,\n\u001B[1;32m    <a href='file:///home/giodefa/anaconda3/envs/cartopy_test/lib/python3.9/site-packages/xarray/backends/api.py?line=510'>511</a>\u001B[0m )\n\u001B[1;32m    <a href='file:///home/giodefa/anaconda3/envs/cartopy_test/lib/python3.9/site-packages/xarray/backends/api.py?line=511'>512</a>\u001B[0m \u001B[39mreturn\u001B[39;00m ds\n",
      "File \u001B[0;32m~/anaconda3/envs/cartopy_test/lib/python3.9/site-packages/xarray/backends/netCDF4_.py:553\u001B[0m, in \u001B[0;36mNetCDF4BackendEntrypoint.open_dataset\u001B[0;34m(self, filename_or_obj, mask_and_scale, decode_times, concat_characters, decode_coords, drop_variables, use_cftime, decode_timedelta, group, mode, format, clobber, diskless, persist, lock, autoclose)\u001B[0m\n\u001B[1;32m    <a href='file:///home/giodefa/anaconda3/envs/cartopy_test/lib/python3.9/site-packages/xarray/backends/netCDF4_.py?line=531'>532</a>\u001B[0m \u001B[39mdef\u001B[39;00m \u001B[39mopen_dataset\u001B[39m(\n\u001B[1;32m    <a href='file:///home/giodefa/anaconda3/envs/cartopy_test/lib/python3.9/site-packages/xarray/backends/netCDF4_.py?line=532'>533</a>\u001B[0m     \u001B[39mself\u001B[39m,\n\u001B[1;32m    <a href='file:///home/giodefa/anaconda3/envs/cartopy_test/lib/python3.9/site-packages/xarray/backends/netCDF4_.py?line=533'>534</a>\u001B[0m     filename_or_obj,\n\u001B[0;32m   (...)\u001B[0m\n\u001B[1;32m    <a href='file:///home/giodefa/anaconda3/envs/cartopy_test/lib/python3.9/site-packages/xarray/backends/netCDF4_.py?line=548'>549</a>\u001B[0m     autoclose\u001B[39m=\u001B[39m\u001B[39mFalse\u001B[39;00m,\n\u001B[1;32m    <a href='file:///home/giodefa/anaconda3/envs/cartopy_test/lib/python3.9/site-packages/xarray/backends/netCDF4_.py?line=549'>550</a>\u001B[0m ):\n\u001B[1;32m    <a href='file:///home/giodefa/anaconda3/envs/cartopy_test/lib/python3.9/site-packages/xarray/backends/netCDF4_.py?line=551'>552</a>\u001B[0m     filename_or_obj \u001B[39m=\u001B[39m _normalize_path(filename_or_obj)\n\u001B[0;32m--> <a href='file:///home/giodefa/anaconda3/envs/cartopy_test/lib/python3.9/site-packages/xarray/backends/netCDF4_.py?line=552'>553</a>\u001B[0m     store \u001B[39m=\u001B[39m NetCDF4DataStore\u001B[39m.\u001B[39;49mopen(\n\u001B[1;32m    <a href='file:///home/giodefa/anaconda3/envs/cartopy_test/lib/python3.9/site-packages/xarray/backends/netCDF4_.py?line=553'>554</a>\u001B[0m         filename_or_obj,\n\u001B[1;32m    <a href='file:///home/giodefa/anaconda3/envs/cartopy_test/lib/python3.9/site-packages/xarray/backends/netCDF4_.py?line=554'>555</a>\u001B[0m         mode\u001B[39m=\u001B[39;49mmode,\n\u001B[1;32m    <a href='file:///home/giodefa/anaconda3/envs/cartopy_test/lib/python3.9/site-packages/xarray/backends/netCDF4_.py?line=555'>556</a>\u001B[0m         \u001B[39mformat\u001B[39;49m\u001B[39m=\u001B[39;49m\u001B[39mformat\u001B[39;49m,\n\u001B[1;32m    <a href='file:///home/giodefa/anaconda3/envs/cartopy_test/lib/python3.9/site-packages/xarray/backends/netCDF4_.py?line=556'>557</a>\u001B[0m         group\u001B[39m=\u001B[39;49mgroup,\n\u001B[1;32m    <a href='file:///home/giodefa/anaconda3/envs/cartopy_test/lib/python3.9/site-packages/xarray/backends/netCDF4_.py?line=557'>558</a>\u001B[0m         clobber\u001B[39m=\u001B[39;49mclobber,\n\u001B[1;32m    <a href='file:///home/giodefa/anaconda3/envs/cartopy_test/lib/python3.9/site-packages/xarray/backends/netCDF4_.py?line=558'>559</a>\u001B[0m         diskless\u001B[39m=\u001B[39;49mdiskless,\n\u001B[1;32m    <a href='file:///home/giodefa/anaconda3/envs/cartopy_test/lib/python3.9/site-packages/xarray/backends/netCDF4_.py?line=559'>560</a>\u001B[0m         persist\u001B[39m=\u001B[39;49mpersist,\n\u001B[1;32m    <a href='file:///home/giodefa/anaconda3/envs/cartopy_test/lib/python3.9/site-packages/xarray/backends/netCDF4_.py?line=560'>561</a>\u001B[0m         lock\u001B[39m=\u001B[39;49mlock,\n\u001B[1;32m    <a href='file:///home/giodefa/anaconda3/envs/cartopy_test/lib/python3.9/site-packages/xarray/backends/netCDF4_.py?line=561'>562</a>\u001B[0m         autoclose\u001B[39m=\u001B[39;49mautoclose,\n\u001B[1;32m    <a href='file:///home/giodefa/anaconda3/envs/cartopy_test/lib/python3.9/site-packages/xarray/backends/netCDF4_.py?line=562'>563</a>\u001B[0m     )\n\u001B[1;32m    <a href='file:///home/giodefa/anaconda3/envs/cartopy_test/lib/python3.9/site-packages/xarray/backends/netCDF4_.py?line=564'>565</a>\u001B[0m     store_entrypoint \u001B[39m=\u001B[39m StoreBackendEntrypoint()\n\u001B[1;32m    <a href='file:///home/giodefa/anaconda3/envs/cartopy_test/lib/python3.9/site-packages/xarray/backends/netCDF4_.py?line=565'>566</a>\u001B[0m     \u001B[39mwith\u001B[39;00m close_on_error(store):\n",
      "File \u001B[0;32m~/anaconda3/envs/cartopy_test/lib/python3.9/site-packages/xarray/backends/netCDF4_.py:382\u001B[0m, in \u001B[0;36mNetCDF4DataStore.open\u001B[0;34m(cls, filename, mode, format, group, clobber, diskless, persist, lock, lock_maker, autoclose)\u001B[0m\n\u001B[1;32m    <a href='file:///home/giodefa/anaconda3/envs/cartopy_test/lib/python3.9/site-packages/xarray/backends/netCDF4_.py?line=375'>376</a>\u001B[0m kwargs \u001B[39m=\u001B[39m \u001B[39mdict\u001B[39m(\n\u001B[1;32m    <a href='file:///home/giodefa/anaconda3/envs/cartopy_test/lib/python3.9/site-packages/xarray/backends/netCDF4_.py?line=376'>377</a>\u001B[0m     clobber\u001B[39m=\u001B[39mclobber, diskless\u001B[39m=\u001B[39mdiskless, persist\u001B[39m=\u001B[39mpersist, \u001B[39mformat\u001B[39m\u001B[39m=\u001B[39m\u001B[39mformat\u001B[39m\n\u001B[1;32m    <a href='file:///home/giodefa/anaconda3/envs/cartopy_test/lib/python3.9/site-packages/xarray/backends/netCDF4_.py?line=377'>378</a>\u001B[0m )\n\u001B[1;32m    <a href='file:///home/giodefa/anaconda3/envs/cartopy_test/lib/python3.9/site-packages/xarray/backends/netCDF4_.py?line=378'>379</a>\u001B[0m manager \u001B[39m=\u001B[39m CachingFileManager(\n\u001B[1;32m    <a href='file:///home/giodefa/anaconda3/envs/cartopy_test/lib/python3.9/site-packages/xarray/backends/netCDF4_.py?line=379'>380</a>\u001B[0m     netCDF4\u001B[39m.\u001B[39mDataset, filename, mode\u001B[39m=\u001B[39mmode, kwargs\u001B[39m=\u001B[39mkwargs\n\u001B[1;32m    <a href='file:///home/giodefa/anaconda3/envs/cartopy_test/lib/python3.9/site-packages/xarray/backends/netCDF4_.py?line=380'>381</a>\u001B[0m )\n\u001B[0;32m--> <a href='file:///home/giodefa/anaconda3/envs/cartopy_test/lib/python3.9/site-packages/xarray/backends/netCDF4_.py?line=381'>382</a>\u001B[0m \u001B[39mreturn\u001B[39;00m \u001B[39mcls\u001B[39;49m(manager, group\u001B[39m=\u001B[39;49mgroup, mode\u001B[39m=\u001B[39;49mmode, lock\u001B[39m=\u001B[39;49mlock, autoclose\u001B[39m=\u001B[39;49mautoclose)\n",
      "File \u001B[0;32m~/anaconda3/envs/cartopy_test/lib/python3.9/site-packages/xarray/backends/netCDF4_.py:330\u001B[0m, in \u001B[0;36mNetCDF4DataStore.__init__\u001B[0;34m(self, manager, group, mode, lock, autoclose)\u001B[0m\n\u001B[1;32m    <a href='file:///home/giodefa/anaconda3/envs/cartopy_test/lib/python3.9/site-packages/xarray/backends/netCDF4_.py?line=327'>328</a>\u001B[0m \u001B[39mself\u001B[39m\u001B[39m.\u001B[39m_group \u001B[39m=\u001B[39m group\n\u001B[1;32m    <a href='file:///home/giodefa/anaconda3/envs/cartopy_test/lib/python3.9/site-packages/xarray/backends/netCDF4_.py?line=328'>329</a>\u001B[0m \u001B[39mself\u001B[39m\u001B[39m.\u001B[39m_mode \u001B[39m=\u001B[39m mode\n\u001B[0;32m--> <a href='file:///home/giodefa/anaconda3/envs/cartopy_test/lib/python3.9/site-packages/xarray/backends/netCDF4_.py?line=329'>330</a>\u001B[0m \u001B[39mself\u001B[39m\u001B[39m.\u001B[39mformat \u001B[39m=\u001B[39m \u001B[39mself\u001B[39;49m\u001B[39m.\u001B[39;49mds\u001B[39m.\u001B[39mdata_model\n\u001B[1;32m    <a href='file:///home/giodefa/anaconda3/envs/cartopy_test/lib/python3.9/site-packages/xarray/backends/netCDF4_.py?line=330'>331</a>\u001B[0m \u001B[39mself\u001B[39m\u001B[39m.\u001B[39m_filename \u001B[39m=\u001B[39m \u001B[39mself\u001B[39m\u001B[39m.\u001B[39mds\u001B[39m.\u001B[39mfilepath()\n\u001B[1;32m    <a href='file:///home/giodefa/anaconda3/envs/cartopy_test/lib/python3.9/site-packages/xarray/backends/netCDF4_.py?line=331'>332</a>\u001B[0m \u001B[39mself\u001B[39m\u001B[39m.\u001B[39mis_remote \u001B[39m=\u001B[39m is_remote_uri(\u001B[39mself\u001B[39m\u001B[39m.\u001B[39m_filename)\n",
      "File \u001B[0;32m~/anaconda3/envs/cartopy_test/lib/python3.9/site-packages/xarray/backends/netCDF4_.py:391\u001B[0m, in \u001B[0;36mNetCDF4DataStore.ds\u001B[0;34m(self)\u001B[0m\n\u001B[1;32m    <a href='file:///home/giodefa/anaconda3/envs/cartopy_test/lib/python3.9/site-packages/xarray/backends/netCDF4_.py?line=388'>389</a>\u001B[0m \u001B[39m@property\u001B[39m\n\u001B[1;32m    <a href='file:///home/giodefa/anaconda3/envs/cartopy_test/lib/python3.9/site-packages/xarray/backends/netCDF4_.py?line=389'>390</a>\u001B[0m \u001B[39mdef\u001B[39;00m \u001B[39mds\u001B[39m(\u001B[39mself\u001B[39m):\n\u001B[0;32m--> <a href='file:///home/giodefa/anaconda3/envs/cartopy_test/lib/python3.9/site-packages/xarray/backends/netCDF4_.py?line=390'>391</a>\u001B[0m     \u001B[39mreturn\u001B[39;00m \u001B[39mself\u001B[39;49m\u001B[39m.\u001B[39;49m_acquire()\n",
      "File \u001B[0;32m~/anaconda3/envs/cartopy_test/lib/python3.9/site-packages/xarray/backends/netCDF4_.py:385\u001B[0m, in \u001B[0;36mNetCDF4DataStore._acquire\u001B[0;34m(self, needs_lock)\u001B[0m\n\u001B[1;32m    <a href='file:///home/giodefa/anaconda3/envs/cartopy_test/lib/python3.9/site-packages/xarray/backends/netCDF4_.py?line=383'>384</a>\u001B[0m \u001B[39mdef\u001B[39;00m \u001B[39m_acquire\u001B[39m(\u001B[39mself\u001B[39m, needs_lock\u001B[39m=\u001B[39m\u001B[39mTrue\u001B[39;00m):\n\u001B[0;32m--> <a href='file:///home/giodefa/anaconda3/envs/cartopy_test/lib/python3.9/site-packages/xarray/backends/netCDF4_.py?line=384'>385</a>\u001B[0m     \u001B[39mwith\u001B[39;00m \u001B[39mself\u001B[39m\u001B[39m.\u001B[39m_manager\u001B[39m.\u001B[39macquire_context(needs_lock) \u001B[39mas\u001B[39;00m root:\n\u001B[1;32m    <a href='file:///home/giodefa/anaconda3/envs/cartopy_test/lib/python3.9/site-packages/xarray/backends/netCDF4_.py?line=385'>386</a>\u001B[0m         ds \u001B[39m=\u001B[39m _nc4_require_group(root, \u001B[39mself\u001B[39m\u001B[39m.\u001B[39m_group, \u001B[39mself\u001B[39m\u001B[39m.\u001B[39m_mode)\n\u001B[1;32m    <a href='file:///home/giodefa/anaconda3/envs/cartopy_test/lib/python3.9/site-packages/xarray/backends/netCDF4_.py?line=386'>387</a>\u001B[0m     \u001B[39mreturn\u001B[39;00m ds\n",
      "File \u001B[0;32m~/anaconda3/envs/cartopy_test/lib/python3.9/contextlib.py:119\u001B[0m, in \u001B[0;36m_GeneratorContextManager.__enter__\u001B[0;34m(self)\u001B[0m\n\u001B[1;32m    <a href='file:///home/giodefa/anaconda3/envs/cartopy_test/lib/python3.9/contextlib.py?line=116'>117</a>\u001B[0m \u001B[39mdel\u001B[39;00m \u001B[39mself\u001B[39m\u001B[39m.\u001B[39margs, \u001B[39mself\u001B[39m\u001B[39m.\u001B[39mkwds, \u001B[39mself\u001B[39m\u001B[39m.\u001B[39mfunc\n\u001B[1;32m    <a href='file:///home/giodefa/anaconda3/envs/cartopy_test/lib/python3.9/contextlib.py?line=117'>118</a>\u001B[0m \u001B[39mtry\u001B[39;00m:\n\u001B[0;32m--> <a href='file:///home/giodefa/anaconda3/envs/cartopy_test/lib/python3.9/contextlib.py?line=118'>119</a>\u001B[0m     \u001B[39mreturn\u001B[39;00m \u001B[39mnext\u001B[39;49m(\u001B[39mself\u001B[39;49m\u001B[39m.\u001B[39;49mgen)\n\u001B[1;32m    <a href='file:///home/giodefa/anaconda3/envs/cartopy_test/lib/python3.9/contextlib.py?line=119'>120</a>\u001B[0m \u001B[39mexcept\u001B[39;00m \u001B[39mStopIteration\u001B[39;00m:\n\u001B[1;32m    <a href='file:///home/giodefa/anaconda3/envs/cartopy_test/lib/python3.9/contextlib.py?line=120'>121</a>\u001B[0m     \u001B[39mraise\u001B[39;00m \u001B[39mRuntimeError\u001B[39;00m(\u001B[39m\"\u001B[39m\u001B[39mgenerator didn\u001B[39m\u001B[39m'\u001B[39m\u001B[39mt yield\u001B[39m\u001B[39m\"\u001B[39m) \u001B[39mfrom\u001B[39;00m \u001B[39mNone\u001B[39m\n",
      "File \u001B[0;32m~/anaconda3/envs/cartopy_test/lib/python3.9/site-packages/xarray/backends/file_manager.py:187\u001B[0m, in \u001B[0;36mCachingFileManager.acquire_context\u001B[0;34m(self, needs_lock)\u001B[0m\n\u001B[1;32m    <a href='file:///home/giodefa/anaconda3/envs/cartopy_test/lib/python3.9/site-packages/xarray/backends/file_manager.py?line=183'>184</a>\u001B[0m \u001B[39m@contextlib\u001B[39m\u001B[39m.\u001B[39mcontextmanager\n\u001B[1;32m    <a href='file:///home/giodefa/anaconda3/envs/cartopy_test/lib/python3.9/site-packages/xarray/backends/file_manager.py?line=184'>185</a>\u001B[0m \u001B[39mdef\u001B[39;00m \u001B[39macquire_context\u001B[39m(\u001B[39mself\u001B[39m, needs_lock\u001B[39m=\u001B[39m\u001B[39mTrue\u001B[39;00m):\n\u001B[1;32m    <a href='file:///home/giodefa/anaconda3/envs/cartopy_test/lib/python3.9/site-packages/xarray/backends/file_manager.py?line=185'>186</a>\u001B[0m     \u001B[39m\"\"\"Context manager for acquiring a file.\"\"\"\u001B[39;00m\n\u001B[0;32m--> <a href='file:///home/giodefa/anaconda3/envs/cartopy_test/lib/python3.9/site-packages/xarray/backends/file_manager.py?line=186'>187</a>\u001B[0m     file, cached \u001B[39m=\u001B[39m \u001B[39mself\u001B[39;49m\u001B[39m.\u001B[39;49m_acquire_with_cache_info(needs_lock)\n\u001B[1;32m    <a href='file:///home/giodefa/anaconda3/envs/cartopy_test/lib/python3.9/site-packages/xarray/backends/file_manager.py?line=187'>188</a>\u001B[0m     \u001B[39mtry\u001B[39;00m:\n\u001B[1;32m    <a href='file:///home/giodefa/anaconda3/envs/cartopy_test/lib/python3.9/site-packages/xarray/backends/file_manager.py?line=188'>189</a>\u001B[0m         \u001B[39myield\u001B[39;00m file\n",
      "File \u001B[0;32m~/anaconda3/envs/cartopy_test/lib/python3.9/site-packages/xarray/backends/file_manager.py:205\u001B[0m, in \u001B[0;36mCachingFileManager._acquire_with_cache_info\u001B[0;34m(self, needs_lock)\u001B[0m\n\u001B[1;32m    <a href='file:///home/giodefa/anaconda3/envs/cartopy_test/lib/python3.9/site-packages/xarray/backends/file_manager.py?line=202'>203</a>\u001B[0m     kwargs \u001B[39m=\u001B[39m kwargs\u001B[39m.\u001B[39mcopy()\n\u001B[1;32m    <a href='file:///home/giodefa/anaconda3/envs/cartopy_test/lib/python3.9/site-packages/xarray/backends/file_manager.py?line=203'>204</a>\u001B[0m     kwargs[\u001B[39m\"\u001B[39m\u001B[39mmode\u001B[39m\u001B[39m\"\u001B[39m] \u001B[39m=\u001B[39m \u001B[39mself\u001B[39m\u001B[39m.\u001B[39m_mode\n\u001B[0;32m--> <a href='file:///home/giodefa/anaconda3/envs/cartopy_test/lib/python3.9/site-packages/xarray/backends/file_manager.py?line=204'>205</a>\u001B[0m file \u001B[39m=\u001B[39m \u001B[39mself\u001B[39;49m\u001B[39m.\u001B[39;49m_opener(\u001B[39m*\u001B[39;49m\u001B[39mself\u001B[39;49m\u001B[39m.\u001B[39;49m_args, \u001B[39m*\u001B[39;49m\u001B[39m*\u001B[39;49mkwargs)\n\u001B[1;32m    <a href='file:///home/giodefa/anaconda3/envs/cartopy_test/lib/python3.9/site-packages/xarray/backends/file_manager.py?line=205'>206</a>\u001B[0m \u001B[39mif\u001B[39;00m \u001B[39mself\u001B[39m\u001B[39m.\u001B[39m_mode \u001B[39m==\u001B[39m \u001B[39m\"\u001B[39m\u001B[39mw\u001B[39m\u001B[39m\"\u001B[39m:\n\u001B[1;32m    <a href='file:///home/giodefa/anaconda3/envs/cartopy_test/lib/python3.9/site-packages/xarray/backends/file_manager.py?line=206'>207</a>\u001B[0m     \u001B[39m# ensure file doesn't get overridden when opened again\u001B[39;00m\n\u001B[1;32m    <a href='file:///home/giodefa/anaconda3/envs/cartopy_test/lib/python3.9/site-packages/xarray/backends/file_manager.py?line=207'>208</a>\u001B[0m     \u001B[39mself\u001B[39m\u001B[39m.\u001B[39m_mode \u001B[39m=\u001B[39m \u001B[39m\"\u001B[39m\u001B[39ma\u001B[39m\u001B[39m\"\u001B[39m\n",
      "File \u001B[0;32msrc/netCDF4/_netCDF4.pyx:2307\u001B[0m, in \u001B[0;36mnetCDF4._netCDF4.Dataset.__init__\u001B[0;34m()\u001B[0m\n",
      "File \u001B[0;32msrc/netCDF4/_netCDF4.pyx:1925\u001B[0m, in \u001B[0;36mnetCDF4._netCDF4._ensure_nc_success\u001B[0;34m()\u001B[0m\n",
      "\u001B[0;31mFileNotFoundError\u001B[0m: [Errno 2] No such file or directory: b'/home/giodefa/Desktop/Unimib/Data Science/Second Year/Physics and environmental data lab/Environmental/Materiale Corso/Esercitazione 2/ts_Amon_IPSL-CM6A-LR_historical_r1i1p1f1_gr_185001-201412.nc'"
     ]
    }
   ],
   "source": [
    "#- Open & explore the netCDF file for model 1; extract model name\n",
    "\n",
    "modfile1='./ts_Amon_IPSL-CM6A-LR_historical_r1i1p1f1_gr_185001-201412.nc'\n",
    "#modfile1='./ts_Amon_MRI-ESM2-0_historical_r1i1p1f1_gn_185001-201412.nc'\n",
    "\n",
    "m_variable='./ts_Amon_'\n",
    "m_case='_historical_r1i1p1f1_gr_185001-201412.nc'\n",
    "model1=modfile1[len(m_variable):-len(m_case)]\n",
    "\n",
    "d1 = xr.open_dataset(modfile1)\n",
    "d1"
   ]
  }
 ],
 "metadata": {
  "interpreter": {
   "hash": "77feb5a6b1965b090ca185859ddd342a9bbce71af873021f13b3faaffb259179"
  },
  "kernelspec": {
   "display_name": "Python 3.9.7 ('cartopy_test')",
   "language": "python",
   "name": "python3"
  },
  "language_info": {
   "codemirror_mode": {
    "name": "ipython",
    "version": 3
   },
   "file_extension": ".py",
   "mimetype": "text/x-python",
   "name": "python",
   "nbconvert_exporter": "python",
   "pygments_lexer": "ipython3",
   "version": "3.9.7"
  },
  "orig_nbformat": 4
 },
 "nbformat": 4,
 "nbformat_minor": 2
}